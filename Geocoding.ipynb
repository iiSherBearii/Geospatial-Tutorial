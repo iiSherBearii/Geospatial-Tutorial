{
  "nbformat": 4,
  "nbformat_minor": 0,
  "metadata": {
    "colab": {
      "provenance": [],
      "authorship_tag": "ABX9TyMtTCR5m7+ZqT/8FXDIiHA1",
      "include_colab_link": true
    },
    "kernelspec": {
      "name": "python3",
      "display_name": "Python 3"
    },
    "language_info": {
      "name": "python"
    }
  },
  "cells": [
    {
      "cell_type": "markdown",
      "metadata": {
        "id": "view-in-github",
        "colab_type": "text"
      },
      "source": [
        "<a href=\"https://colab.research.google.com/github/iiSherBearii/Geospatial-Tutorial/blob/main/Geocoding.ipynb\" target=\"_parent\"><img src=\"https://colab.research.google.com/assets/colab-badge.svg\" alt=\"Open In Colab\"/></a>"
      ]
    },
    {
      "cell_type": "markdown",
      "source": [
        "#Welcome to Geocoding and Shapefiles!\n",
        "Before you can analyze and visualize spatial data, you often have to start with converting that data into a shapefile- a special spatial data format used to create maps and run spatial analysis like spatial lag models.\n",
        "\n",
        "Every location on Earth has a unique geocode identifier to tie their spatial location to their non-spatial data like population sizes etc. When using spatial databases like the U.S. Census' American Community Survey (ACS), every location has a unique GEOID that acts as a geocode to tie their locations to the survey data provided in the ACS database.\n",
        "\n",
        "A shapefile is a spatial dataset that contains shapes like polygons or points that are matched to a unique geoid. These are used to create the maps we see in most spatial research. But when working with raw address datasets, we can't make maps out of them without matching them to a GEOID through the X, Y coordinates of the address.\n",
        "\n",
        "Today we'll learn how to take raw address files, geocode them through a geocoding server, and transform them into a shapefile for mapping!\n",
        "\n",
        "##What is Geocoding?\n",
        "Geocoding is the process of transforming location descriptions (like addresses or place names) into geographic coordinates (latitude and longitude), which are then used to place markers or position maps. Reverse geocoding is the opposite process, converting geographic coordinates into a human-readable address.\n",
        "\n",
        "#Geocoding using the Nominatim Server (OpenStreetMaps)\n",
        "\n",
        "##What is the Nominatim Server?\n",
        "\"Nominatim is the geocoding software that powers the official OSM site www.openstreetmap.org. It serves 30 million queries per day on a single server.\" - Nominatim\n",
        "\n",
        "##Alternative Spatial Databases\n",
        "  - U.S. Census\n",
        "  - ArcGIS"
      ],
      "metadata": {
        "id": "wxvRyhFX7pn2"
      }
    },
    {
      "cell_type": "markdown",
      "source": [
        "#Downloading Raw Address File\n",
        "\n",
        "If you have access to a dataset with spatial identifiers, like addresses, you have the ability to create those into geospatial data by geocoding them and transforming them into a shapefile. For today's tutorial, we'll be using a dataset from the NYPD Stop, Question and Frisk Database (https://www.nyc.gov/site/nypd/stats/reports-analysis/stopfrisk.page).\n",
        "\n",
        "This dataset contains incident reports of when NYPD officers stopped a pedestraian due to suspicion. Within the dataset is a column for the location of where this stop and frisk took place. That's all we need to start geocoding."
      ],
      "metadata": {
        "id": "RuBUEbaI7-J9"
      }
    },
    {
      "cell_type": "code",
      "execution_count": 7,
      "metadata": {
        "id": "d3WQvdR-7os7",
        "colab": {
          "base_uri": "https://localhost:8080/"
        },
        "outputId": "d3dcae3e-2221-433b-f67b-0d90509b140c"
      },
      "outputs": [
        {
          "output_type": "stream",
          "name": "stdout",
          "text": [
            "Requirement already satisfied: pandas in /usr/local/lib/python3.11/dist-packages (2.2.2)\n",
            "Requirement already satisfied: numpy>=1.23.2 in /usr/local/lib/python3.11/dist-packages (from pandas) (2.0.2)\n",
            "Requirement already satisfied: python-dateutil>=2.8.2 in /usr/local/lib/python3.11/dist-packages (from pandas) (2.8.2)\n",
            "Requirement already satisfied: pytz>=2020.1 in /usr/local/lib/python3.11/dist-packages (from pandas) (2025.1)\n",
            "Requirement already satisfied: tzdata>=2022.7 in /usr/local/lib/python3.11/dist-packages (from pandas) (2025.1)\n",
            "Requirement already satisfied: six>=1.5 in /usr/local/lib/python3.11/dist-packages (from python-dateutil>=2.8.2->pandas) (1.17.0)\n",
            "Requirement already satisfied: geopandas in /usr/local/lib/python3.11/dist-packages (1.0.1)\n",
            "Requirement already satisfied: numpy>=1.22 in /usr/local/lib/python3.11/dist-packages (from geopandas) (2.0.2)\n",
            "Requirement already satisfied: pyogrio>=0.7.2 in /usr/local/lib/python3.11/dist-packages (from geopandas) (0.10.0)\n",
            "Requirement already satisfied: packaging in /usr/local/lib/python3.11/dist-packages (from geopandas) (24.2)\n",
            "Requirement already satisfied: pandas>=1.4.0 in /usr/local/lib/python3.11/dist-packages (from geopandas) (2.2.2)\n",
            "Requirement already satisfied: pyproj>=3.3.0 in /usr/local/lib/python3.11/dist-packages (from geopandas) (3.7.1)\n",
            "Requirement already satisfied: shapely>=2.0.0 in /usr/local/lib/python3.11/dist-packages (from geopandas) (2.0.7)\n",
            "Requirement already satisfied: python-dateutil>=2.8.2 in /usr/local/lib/python3.11/dist-packages (from pandas>=1.4.0->geopandas) (2.8.2)\n",
            "Requirement already satisfied: pytz>=2020.1 in /usr/local/lib/python3.11/dist-packages (from pandas>=1.4.0->geopandas) (2025.1)\n",
            "Requirement already satisfied: tzdata>=2022.7 in /usr/local/lib/python3.11/dist-packages (from pandas>=1.4.0->geopandas) (2025.1)\n",
            "Requirement already satisfied: certifi in /usr/local/lib/python3.11/dist-packages (from pyogrio>=0.7.2->geopandas) (2025.1.31)\n",
            "Requirement already satisfied: six>=1.5 in /usr/local/lib/python3.11/dist-packages (from python-dateutil>=2.8.2->pandas>=1.4.0->geopandas) (1.17.0)\n",
            "Requirement already satisfied: geopy in /usr/local/lib/python3.11/dist-packages (2.4.1)\n",
            "Requirement already satisfied: geographiclib<3,>=1.52 in /usr/local/lib/python3.11/dist-packages (from geopy) (2.0)\n",
            "Requirement already satisfied: python-dotenv in /usr/local/lib/python3.11/dist-packages (1.0.1)\n"
          ]
        }
      ],
      "source": [
        "#Download packages\n",
        "!pip install pandas\n",
        "!pip install geopandas\n",
        "!pip install geopy\n",
        "!pip install python-dotenv\n",
        "\n",
        "import pandas as pd\n",
        "import geopandas as gpd\n",
        "from geopy.geocoders import Nominatim\n",
        "from geopy.extra.rate_limiter import RateLimiter\n",
        "from tqdm import tqdm #for progress bar in the batch geocoding script"
      ]
    },
    {
      "cell_type": "code",
      "source": [
        "# Import CSV data\n",
        "url = 'https://raw.githubusercontent.com/iiSherBearii/Geospatial-Tutorial/refs/heads/main/stop_frisk.csv'\n",
        "df = pd.read_csv(url)"
      ],
      "metadata": {
        "id": "HaeD3yzmxz9a"
      },
      "execution_count": 8,
      "outputs": []
    },
    {
      "cell_type": "code",
      "source": [
        "print(df)"
      ],
      "metadata": {
        "colab": {
          "base_uri": "https://localhost:8080/"
        },
        "id": "6fkS1wpuy5KP",
        "outputId": "942032d0-b9a9-4f6a-fd9a-68148e9533a5"
      },
      "execution_count": 9,
      "outputs": [
        {
          "output_type": "stream",
          "name": "stdout",
          "text": [
            "      STOP_ID STOP_FRISK_DATE STOP_FRISK_TIME  YEAR2   MONTH2      DAY2  \\\n",
            "0   279772561          1/1/24        01:58:00   2024  January    Monday   \n",
            "1   279772564          1/1/24        00:48:00   2024  January    Monday   \n",
            "2   279772565          1/1/24        01:10:00   2024  January    Monday   \n",
            "3   279772566          1/1/24        01:10:00   2024  January    Monday   \n",
            "4   279772567          1/1/24        01:10:00   2024  January    Monday   \n",
            "..        ...             ...             ...    ...      ...       ...   \n",
            "95  279990285          1/1/24        19:29:00   2024  January    Monday   \n",
            "96  279990286          1/1/24        19:29:00   2024  January    Monday   \n",
            "97  279990288          1/4/24        02:40:00   2024  January  Thursday   \n",
            "98  279990292          1/4/24        00:02:00   2024  January  Thursday   \n",
            "99  279990293          1/4/24        00:02:00   2024  January  Thursday   \n",
            "\n",
            "         STOP_WAS_INITIATED ISSUING_OFFICER_RANK  \\\n",
            "0   Based on Self Initiated                   PO   \n",
            "1   Based on Self Initiated                   PO   \n",
            "2        Based on Radio Run                   PO   \n",
            "3        Based on Radio Run                   PO   \n",
            "4        Based on Radio Run                   PO   \n",
            "..                      ...                  ...   \n",
            "95  Based on Self Initiated                   PO   \n",
            "96  Based on Self Initiated                   PO   \n",
            "97  Based on Self Initiated                   PO   \n",
            "98       Based on Radio Run                   PO   \n",
            "99       Based on Radio Run                   PO   \n",
            "\n",
            "    ISSUING_OFFICER_COMMAND_CODE SUPERVISING_OFFICER_RANK  ...  \\\n",
            "0                             46                      SGT  ...   \n",
            "1                            120                      SGT  ...   \n",
            "2                            871                      SGT  ...   \n",
            "3                            871                      SGT  ...   \n",
            "4                            871                      SGT  ...   \n",
            "..                           ...                      ...  ...   \n",
            "95                           803                      SGT  ...   \n",
            "96                           803                      SGT  ...   \n",
            "97                            90                      SGT  ...   \n",
            "98                           108                      SGT  ...   \n",
            "99                           108                      SGT  ...   \n",
            "\n",
            "    SUSPECT_RACE_DESCRIPTION SUSPECT_HEIGHT SUSPECT_WEIGHT  \\\n",
            "0             WHITE HISPANIC           5.11            160   \n",
            "1                      BLACK            6.1            200   \n",
            "2             WHITE HISPANIC              6            140   \n",
            "3             WHITE HISPANIC              5            120   \n",
            "4             WHITE HISPANIC              5            120   \n",
            "..                       ...            ...            ...   \n",
            "95                     BLACK            5.6         (null)   \n",
            "96                     BLACK              6            180   \n",
            "97                     BLACK            5.1            155   \n",
            "98            WHITE HISPANIC            5.7            130   \n",
            "99            WHITE HISPANIC            5.7            150   \n",
            "\n",
            "   SUSPECT_BODY_BUILD_TYPE SUSPECT_EYE_COLOR  SUSPECT_HAIR_COLOR  \\\n",
            "0                      THN               BRO                 BLK   \n",
            "1                      MED               BRO                 BLK   \n",
            "2                      THN               BRO                 BLK   \n",
            "3                      THN               BRO                 BLK   \n",
            "4                      THN               BRO                 BLK   \n",
            "..                     ...               ...                 ...   \n",
            "95                     MED               BRO                 XXX   \n",
            "96                  (null)               BRO                 XXX   \n",
            "97                     THN               BRO                 XXX   \n",
            "98                     MED               BRO                 BLK   \n",
            "99                     THN               BRO                 BLK   \n",
            "\n",
            "   SUSPECT_OTHER_DESCRIPTION  STOP_LOCATION_STREET_NAME  \\\n",
            "0                     (null)                   CLAY AVE   \n",
            "1    BLACK HOODIE SWEATSHIRT                FARRAGUT RD   \n",
            "2                SCAR ON LIP                        NaN   \n",
            "3        RED JACKET/ RED HAT                        NaN   \n",
            "4               BLACK JACKET                        NaN   \n",
            "..                       ...                        ...   \n",
            "95                    (null)                  MARCY AVE   \n",
            "96                    (null)                   PARK AVE   \n",
            "97              BLACK JACKET                 GRAHAM AVE   \n",
            "98                RED JACKET                QUEENS BLVD   \n",
            "99              BLACK JACKET                QUEENS BLVD   \n",
            "\n",
            "   STOP_LOCATION_BORO_NAME      city  \n",
            "0                    BRONX  New York  \n",
            "1                 BROOKLYN  New York  \n",
            "2                 BROOKLYN  New York  \n",
            "3                 BROOKLYN  New York  \n",
            "4                 BROOKLYN  New York  \n",
            "..                     ...       ...  \n",
            "95                BROOKLYN  New York  \n",
            "96                BROOKLYN  New York  \n",
            "97                BROOKLYN  New York  \n",
            "98                  QUEENS  New York  \n",
            "99                  QUEENS  New York  \n",
            "\n",
            "[100 rows x 75 columns]\n"
          ]
        }
      ]
    },
    {
      "cell_type": "markdown",
      "source": [
        "##Batch Geocoding"
      ],
      "metadata": {
        "id": "cChcgklKBiex"
      }
    },
    {
      "cell_type": "code",
      "source": [
        "# Batch Geocoding Function (with progress bar)\n",
        "tqdm.pandas()\n",
        "\n",
        "def geocode_address(row):\n",
        "    address = f\"{row['STOP_LOCATION_STREET_NAME']}, {row['city']}\"\n",
        "    try:\n",
        "        location = geolocator.geocode(address)\n",
        "        if location:\n",
        "            return pd.Series({'latitude': location.latitude, 'longitude': location.longitude})\n",
        "        else:\n",
        "            return pd.Series({'latitude': None, 'longitude': None})\n",
        "    except:\n",
        "        return pd.Series({'latitude': None, 'longitude': None})\n",
        "\n",
        "# Apply batch geocoding with progress bar\n",
        "df[['latitude', 'longitude']] = df.progress_apply(geocode_address, axis=1)"
      ],
      "metadata": {
        "id": "Hk-JGVLvBdFx",
        "colab": {
          "base_uri": "https://localhost:8080/"
        },
        "outputId": "040e2588-4051-4be8-83e2-a66ccf33b705"
      },
      "execution_count": 10,
      "outputs": [
        {
          "output_type": "stream",
          "name": "stderr",
          "text": [
            "  5%|▌         | 5/100 [00:04<01:23,  1.14it/s]WARNING:urllib3.connectionpool:Retrying (Retry(total=1, connect=None, read=None, redirect=None, status=None)) after connection broken by 'ReadTimeoutError(\"HTTPSConnectionPool(host='nominatim.openstreetmap.org', port=443): Read timed out. (read timeout=1)\")': /search?q=nan%2C+New+York&format=json&limit=1\n",
            "  6%|▌         | 6/100 [00:06<01:57,  1.25s/it]WARNING:urllib3.connectionpool:Retrying (Retry(total=1, connect=None, read=None, redirect=None, status=None)) after connection broken by 'ReadTimeoutError(\"HTTPSConnectionPool(host='nominatim.openstreetmap.org', port=443): Read timed out. (read timeout=1)\")': /search?q=nan%2C+New+York&format=json&limit=1\n",
            "  7%|▋         | 7/100 [00:08<02:18,  1.49s/it]WARNING:urllib3.connectionpool:Retrying (Retry(total=1, connect=None, read=None, redirect=None, status=None)) after connection broken by 'ReadTimeoutError(\"HTTPSConnectionPool(host='nominatim.openstreetmap.org', port=443): Read timed out. (read timeout=1)\")': /search?q=CONCOURSE+VLG+W%2C+New+York&format=json&limit=1\n",
            "  8%|▊         | 8/100 [00:10<02:37,  1.72s/it]WARNING:urllib3.connectionpool:Retrying (Retry(total=1, connect=None, read=None, redirect=None, status=None)) after connection broken by 'ReadTimeoutError(\"HTTPSConnectionPool(host='nominatim.openstreetmap.org', port=443): Read timed out. (read timeout=1)\")': /search?q=CONCOURSE+VLG+W%2C+New+York&format=json&limit=1\n",
            " 10%|█         | 10/100 [00:13<02:16,  1.51s/it]WARNING:urllib3.connectionpool:Retrying (Retry(total=1, connect=None, read=None, redirect=None, status=None)) after connection broken by 'ReadTimeoutError(\"HTTPSConnectionPool(host='nominatim.openstreetmap.org', port=443): Read timed out. (read timeout=1)\")': /search?q=E+170+ST%2C+New+York&format=json&limit=1\n",
            "WARNING:urllib3.connectionpool:Retrying (Retry(total=0, connect=None, read=None, redirect=None, status=None)) after connection broken by 'ReadTimeoutError(\"HTTPSConnectionPool(host='nominatim.openstreetmap.org', port=443): Read timed out. (read timeout=1)\")': /search?q=E+170+ST%2C+New+York&format=json&limit=1\n",
            " 16%|█▌        | 16/100 [00:21<01:39,  1.18s/it]WARNING:urllib3.connectionpool:Retrying (Retry(total=1, connect=None, read=None, redirect=None, status=None)) after connection broken by 'ReadTimeoutError(\"HTTPSConnectionPool(host='nominatim.openstreetmap.org', port=443): Read timed out. (read timeout=1)\")': /search?q=5+AVE%2C+New+York&format=json&limit=1\n",
            " 18%|█▊        | 18/100 [00:24<01:46,  1.30s/it]WARNING:urllib3.connectionpool:Retrying (Retry(total=1, connect=None, read=None, redirect=None, status=None)) after connection broken by 'ReadTimeoutError(\"HTTPSConnectionPool(host='nominatim.openstreetmap.org', port=443): Read timed out. (read timeout=1)\")': /search?q=REV+JAMES+A+POLITE+AVE%2C+New+York&format=json&limit=1\n",
            " 22%|██▏       | 22/100 [00:29<01:30,  1.16s/it]WARNING:urllib3.connectionpool:Retrying (Retry(total=1, connect=None, read=None, redirect=None, status=None)) after connection broken by 'ReadTimeoutError(\"HTTPSConnectionPool(host='nominatim.openstreetmap.org', port=443): Read timed out. (read timeout=1)\")': /search?q=MELROSE+AVE%2C+New+York&format=json&limit=1\n",
            " 24%|██▍       | 24/100 [00:32<01:38,  1.30s/it]WARNING:urllib3.connectionpool:Retrying (Retry(total=1, connect=None, read=None, redirect=None, status=None)) after connection broken by 'ReadTimeoutError(\"HTTPSConnectionPool(host='nominatim.openstreetmap.org', port=443): Read timed out. (read timeout=1)\")': /search?q=E+170+ST%2C+New+York&format=json&limit=1\n",
            "WARNING:urllib3.connectionpool:Retrying (Retry(total=0, connect=None, read=None, redirect=None, status=None)) after connection broken by 'ReadTimeoutError(\"HTTPSConnectionPool(host='nominatim.openstreetmap.org', port=443): Read timed out. (read timeout=1)\")': /search?q=E+170+ST%2C+New+York&format=json&limit=1\n",
            " 25%|██▌       | 25/100 [00:36<02:36,  2.09s/it]WARNING:urllib3.connectionpool:Retrying (Retry(total=1, connect=None, read=None, redirect=None, status=None)) after connection broken by 'ReadTimeoutError(\"HTTPSConnectionPool(host='nominatim.openstreetmap.org', port=443): Read timed out. (read timeout=1)\")': /search?q=E+161+ST%2C+New+York&format=json&limit=1\n",
            "WARNING:urllib3.connectionpool:Retrying (Retry(total=0, connect=None, read=None, redirect=None, status=None)) after connection broken by 'ReadTimeoutError(\"HTTPSConnectionPool(host='nominatim.openstreetmap.org', port=443): Read timed out. (read timeout=1)\")': /search?q=E+161+ST%2C+New+York&format=json&limit=1\n",
            " 28%|██▊       | 28/100 [00:42<02:10,  1.82s/it]WARNING:urllib3.connectionpool:Retrying (Retry(total=1, connect=None, read=None, redirect=None, status=None)) after connection broken by 'ReadTimeoutError(\"HTTPSConnectionPool(host='nominatim.openstreetmap.org', port=443): Read timed out. (read timeout=1)\")': /search?q=E+228+ST%2C+New+York&format=json&limit=1\n",
            "WARNING:urllib3.connectionpool:Retrying (Retry(total=0, connect=None, read=None, redirect=None, status=None)) after connection broken by 'ReadTimeoutError(\"HTTPSConnectionPool(host='nominatim.openstreetmap.org', port=443): Read timed out. (read timeout=1)\")': /search?q=E+228+ST%2C+New+York&format=json&limit=1\n",
            " 32%|███▏      | 32/100 [00:49<01:34,  1.39s/it]WARNING:urllib3.connectionpool:Retrying (Retry(total=1, connect=None, read=None, redirect=None, status=None)) after connection broken by 'ReadTimeoutError(\"HTTPSConnectionPool(host='nominatim.openstreetmap.org', port=443): Read timed out. (read timeout=1)\")': /search?q=CROSBY+ST%2C+New+York&format=json&limit=1\n",
            " 33%|███▎      | 33/100 [00:51<01:45,  1.58s/it]WARNING:urllib3.connectionpool:Retrying (Retry(total=1, connect=None, read=None, redirect=None, status=None)) after connection broken by 'ReadTimeoutError(\"HTTPSConnectionPool(host='nominatim.openstreetmap.org', port=443): Read timed out. (read timeout=1)\")': /search?q=3+AVE%2C+New+York&format=json&limit=1\n",
            " 36%|███▌      | 36/100 [00:55<01:24,  1.32s/it]WARNING:urllib3.connectionpool:Retrying (Retry(total=1, connect=None, read=None, redirect=None, status=None)) after connection broken by 'ReadTimeoutError(\"HTTPSConnectionPool(host='nominatim.openstreetmap.org', port=443): Read timed out. (read timeout=1)\")': /search?q=E+226+ST%2C+New+York&format=json&limit=1\n",
            "WARNING:urllib3.connectionpool:Retrying (Retry(total=0, connect=None, read=None, redirect=None, status=None)) after connection broken by 'ReadTimeoutError(\"HTTPSConnectionPool(host='nominatim.openstreetmap.org', port=443): Read timed out. (read timeout=1)\")': /search?q=E+226+ST%2C+New+York&format=json&limit=1\n",
            " 37%|███▋      | 37/100 [00:58<02:09,  2.05s/it]WARNING:urllib3.connectionpool:Retrying (Retry(total=1, connect=None, read=None, redirect=None, status=None)) after connection broken by 'ReadTimeoutError(\"HTTPSConnectionPool(host='nominatim.openstreetmap.org', port=443): Read timed out. (read timeout=1)\")': /search?q=W+97+ST%2C+New+York&format=json&limit=1\n",
            " 41%|████      | 41/100 [01:03<01:16,  1.30s/it]WARNING:urllib3.connectionpool:Retrying (Retry(total=1, connect=None, read=None, redirect=None, status=None)) after connection broken by 'ReadTimeoutError(\"HTTPSConnectionPool(host='nominatim.openstreetmap.org', port=443): Read timed out. (read timeout=1)\")': /search?q=3+AVE%2C+New+York&format=json&limit=1\n",
            " 43%|████▎     | 43/100 [01:06<01:12,  1.27s/it]WARNING:urllib3.connectionpool:Retrying (Retry(total=1, connect=None, read=None, redirect=None, status=None)) after connection broken by 'ReadTimeoutError(\"HTTPSConnectionPool(host='nominatim.openstreetmap.org', port=443): Read timed out. (read timeout=1)\")': /search?q=E+167+ST%2C+New+York&format=json&limit=1\n",
            "WARNING:urllib3.connectionpool:Retrying (Retry(total=0, connect=None, read=None, redirect=None, status=None)) after connection broken by 'ReadTimeoutError(\"HTTPSConnectionPool(host='nominatim.openstreetmap.org', port=443): Read timed out. (read timeout=1)\")': /search?q=E+167+ST%2C+New+York&format=json&limit=1\n",
            " 46%|████▌     | 46/100 [01:12<01:18,  1.45s/it]WARNING:urllib3.connectionpool:Retrying (Retry(total=1, connect=None, read=None, redirect=None, status=None)) after connection broken by 'ReadTimeoutError(\"HTTPSConnectionPool(host='nominatim.openstreetmap.org', port=443): Read timed out. (read timeout=1)\")': /search?q=ANDREWS+AVE+S%2C+New+York&format=json&limit=1\n",
            "WARNING:urllib3.connectionpool:Retrying (Retry(total=0, connect=None, read=None, redirect=None, status=None)) after connection broken by 'ReadTimeoutError(\"HTTPSConnectionPool(host='nominatim.openstreetmap.org', port=443): Read timed out. (read timeout=1)\")': /search?q=ANDREWS+AVE+S%2C+New+York&format=json&limit=1\n",
            " 48%|████▊     | 48/100 [01:16<01:26,  1.67s/it]WARNING:urllib3.connectionpool:Retrying (Retry(total=1, connect=None, read=None, redirect=None, status=None)) after connection broken by 'ReadTimeoutError(\"HTTPSConnectionPool(host='nominatim.openstreetmap.org', port=443): Read timed out. (read timeout=1)\")': /search?q=WALTON+AVE%2C+New+York&format=json&limit=1\n",
            " 49%|████▉     | 49/100 [01:18<01:30,  1.77s/it]WARNING:urllib3.connectionpool:Retrying (Retry(total=1, connect=None, read=None, redirect=None, status=None)) after connection broken by 'ReadTimeoutError(\"HTTPSConnectionPool(host='nominatim.openstreetmap.org', port=443): Read timed out. (read timeout=1)\")': /search?q=E+TREMONT+AVE%2C+New+York&format=json&limit=1\n",
            " 50%|█████     | 50/100 [01:20<01:31,  1.84s/it]WARNING:urllib3.connectionpool:Retrying (Retry(total=1, connect=None, read=None, redirect=None, status=None)) after connection broken by 'ReadTimeoutError(\"HTTPSConnectionPool(host='nominatim.openstreetmap.org', port=443): Read timed out. (read timeout=1)\")': /search?q=E+FORDHAM+RD%2C+New+York&format=json&limit=1\n",
            " 51%|█████     | 51/100 [01:22<01:33,  1.90s/it]WARNING:urllib3.connectionpool:Retrying (Retry(total=1, connect=None, read=None, redirect=None, status=None)) after connection broken by 'ReadTimeoutError(\"HTTPSConnectionPool(host='nominatim.openstreetmap.org', port=443): Read timed out. (read timeout=1)\")': /search?q=E+184+ST%2C+New+York&format=json&limit=1\n",
            "WARNING:urllib3.connectionpool:Retrying (Retry(total=0, connect=None, read=None, redirect=None, status=None)) after connection broken by 'ReadTimeoutError(\"HTTPSConnectionPool(host='nominatim.openstreetmap.org', port=443): Read timed out. (read timeout=1)\")': /search?q=E+184+ST%2C+New+York&format=json&limit=1\n",
            " 55%|█████▌    | 55/100 [01:28<01:05,  1.46s/it]WARNING:urllib3.connectionpool:Retrying (Retry(total=1, connect=None, read=None, redirect=None, status=None)) after connection broken by 'ReadTimeoutError(\"HTTPSConnectionPool(host='nominatim.openstreetmap.org', port=443): Read timed out. (read timeout=1)\")': /search?q=WHEATLEY+ST%2C+New+York&format=json&limit=1\n",
            " 57%|█████▋    | 57/100 [01:31<01:02,  1.44s/it]WARNING:urllib3.connectionpool:Retrying (Retry(total=1, connect=None, read=None, redirect=None, status=None)) after connection broken by 'ReadTimeoutError(\"HTTPSConnectionPool(host='nominatim.openstreetmap.org', port=443): Read timed out. (read timeout=1)\")': /search?q=QUEENS+BOULEVARD%2C+New+York&format=json&limit=1\n",
            " 59%|█████▉    | 59/100 [01:34<00:58,  1.43s/it]WARNING:urllib3.connectionpool:Retrying (Retry(total=1, connect=None, read=None, redirect=None, status=None)) after connection broken by 'ReadTimeoutError(\"HTTPSConnectionPool(host='nominatim.openstreetmap.org', port=443): Read timed out. (read timeout=1)\")': /search?q=E+163+ST%2C+New+York&format=json&limit=1\n",
            "WARNING:urllib3.connectionpool:Retrying (Retry(total=0, connect=None, read=None, redirect=None, status=None)) after connection broken by 'ReadTimeoutError(\"HTTPSConnectionPool(host='nominatim.openstreetmap.org', port=443): Read timed out. (read timeout=1)\")': /search?q=E+163+ST%2C+New+York&format=json&limit=1\n",
            " 60%|██████    | 60/100 [01:38<01:28,  2.21s/it]WARNING:urllib3.connectionpool:Retrying (Retry(total=1, connect=None, read=None, redirect=None, status=None)) after connection broken by 'ReadTimeoutError(\"HTTPSConnectionPool(host='nominatim.openstreetmap.org', port=443): Read timed out. (read timeout=1)\")': /search?q=E+170+ST%2C+New+York&format=json&limit=1\n",
            "WARNING:urllib3.connectionpool:Retrying (Retry(total=0, connect=None, read=None, redirect=None, status=None)) after connection broken by 'ReadTimeoutError(\"HTTPSConnectionPool(host='nominatim.openstreetmap.org', port=443): Read timed out. (read timeout=1)\")': /search?q=E+170+ST%2C+New+York&format=json&limit=1\n",
            " 65%|██████▌   | 65/100 [01:46<00:48,  1.39s/it]WARNING:urllib3.connectionpool:Retrying (Retry(total=1, connect=None, read=None, redirect=None, status=None)) after connection broken by 'ReadTimeoutError(\"HTTPSConnectionPool(host='nominatim.openstreetmap.org', port=443): Read timed out. (read timeout=1)\")': /search?q=SHORE+PKWY%2C+New+York&format=json&limit=1\n",
            " 66%|██████▌   | 66/100 [01:48<00:53,  1.58s/it]WARNING:urllib3.connectionpool:Retrying (Retry(total=1, connect=None, read=None, redirect=None, status=None)) after connection broken by 'ReadTimeoutError(\"HTTPSConnectionPool(host='nominatim.openstreetmap.org', port=443): Read timed out. (read timeout=1)\")': /search?q=BEDFORD+AVE%2C+New+York&format=json&limit=1\n",
            " 68%|██████▊   | 68/100 [01:51<00:47,  1.50s/it]WARNING:urllib3.connectionpool:Retrying (Retry(total=1, connect=None, read=None, redirect=None, status=None)) after connection broken by 'ReadTimeoutError(\"HTTPSConnectionPool(host='nominatim.openstreetmap.org', port=443): Read timed out. (read timeout=1)\")': /search?q=31+ST%2C+New+York&format=json&limit=1\n",
            "WARNING:urllib3.connectionpool:Retrying (Retry(total=0, connect=None, read=None, redirect=None, status=None)) after connection broken by 'ReadTimeoutError(\"HTTPSConnectionPool(host='nominatim.openstreetmap.org', port=443): Read timed out. (read timeout=1)\")': /search?q=31+ST%2C+New+York&format=json&limit=1\n",
            " 71%|███████   | 71/100 [01:57<00:44,  1.53s/it]WARNING:urllib3.connectionpool:Retrying (Retry(total=1, connect=None, read=None, redirect=None, status=None)) after connection broken by 'ReadTimeoutError(\"HTTPSConnectionPool(host='nominatim.openstreetmap.org', port=443): Read timed out. (read timeout=1)\")': /search?q=W+93+ST%2C+New+York&format=json&limit=1\n",
            " 72%|███████▏  | 72/100 [01:59<00:47,  1.69s/it]WARNING:urllib3.connectionpool:Retrying (Retry(total=1, connect=None, read=None, redirect=None, status=None)) after connection broken by 'ReadTimeoutError(\"HTTPSConnectionPool(host='nominatim.openstreetmap.org', port=443): Read timed out. (read timeout=1)\")': /search?q=W+125+ST%2C+New+York&format=json&limit=1\n",
            "WARNING:urllib3.connectionpool:Retrying (Retry(total=0, connect=None, read=None, redirect=None, status=None)) after connection broken by 'ReadTimeoutError(\"HTTPSConnectionPool(host='nominatim.openstreetmap.org', port=443): Read timed out. (read timeout=1)\")': /search?q=W+125+ST%2C+New+York&format=json&limit=1\n",
            " 74%|███████▍  | 74/100 [02:03<00:44,  1.72s/it]WARNING:urllib3.connectionpool:Retrying (Retry(total=1, connect=None, read=None, redirect=None, status=None)) after connection broken by 'ReadTimeoutError(\"HTTPSConnectionPool(host='nominatim.openstreetmap.org', port=443): Read timed out. (read timeout=1)\")': /search?q=MARION+AVE%2C+New+York&format=json&limit=1\n",
            " 75%|███████▌  | 75/100 [02:05<00:45,  1.82s/it]WARNING:urllib3.connectionpool:Retrying (Retry(total=1, connect=None, read=None, redirect=None, status=None)) after connection broken by 'ReadTimeoutError(\"HTTPSConnectionPool(host='nominatim.openstreetmap.org', port=443): Read timed out. (read timeout=1)\")': /search?q=UNIVERSITY+AVE%2C+New+York&format=json&limit=1\n",
            " 77%|███████▋  | 77/100 [02:08<00:37,  1.61s/it]WARNING:urllib3.connectionpool:Retrying (Retry(total=1, connect=None, read=None, redirect=None, status=None)) after connection broken by 'ReadTimeoutError(\"HTTPSConnectionPool(host='nominatim.openstreetmap.org', port=443): Read timed out. (read timeout=1)\")': /search?q=GRAND+CONC%2C+New+York&format=json&limit=1\n",
            " 80%|████████  | 80/100 [02:12<00:26,  1.35s/it]WARNING:urllib3.connectionpool:Retrying (Retry(total=1, connect=None, read=None, redirect=None, status=None)) after connection broken by 'ReadTimeoutError(\"HTTPSConnectionPool(host='nominatim.openstreetmap.org', port=443): Read timed out. (read timeout=1)\")': /search?q=PROSPECT+AVE%2C+New+York&format=json&limit=1\n",
            " 85%|████████▌ | 85/100 [02:18<00:16,  1.12s/it]WARNING:urllib3.connectionpool:Retrying (Retry(total=1, connect=None, read=None, redirect=None, status=None)) after connection broken by 'ReadTimeoutError(\"HTTPSConnectionPool(host='nominatim.openstreetmap.org', port=443): Read timed out. (read timeout=1)\")': /search?q=ROCKAWAY+PKWY%2C+New+York&format=json&limit=1\n",
            " 86%|████████▌ | 86/100 [02:20<00:19,  1.38s/it]WARNING:urllib3.connectionpool:Retrying (Retry(total=1, connect=None, read=None, redirect=None, status=None)) after connection broken by 'ReadTimeoutError(\"HTTPSConnectionPool(host='nominatim.openstreetmap.org', port=443): Read timed out. (read timeout=1)\")': /search?q=BEACH+CHANNEL+DR%2C+New+York&format=json&limit=1\n",
            " 89%|████████▉ | 89/100 [02:24<00:14,  1.28s/it]WARNING:urllib3.connectionpool:Retrying (Retry(total=1, connect=None, read=None, redirect=None, status=None)) after connection broken by 'ReadTimeoutError(\"HTTPSConnectionPool(host='nominatim.openstreetmap.org', port=443): Read timed out. (read timeout=1)\")': /search?q=FREEMAN+ST%2C+New+York&format=json&limit=1\n",
            " 90%|█████████ | 90/100 [02:26<00:15,  1.50s/it]WARNING:urllib3.connectionpool:Retrying (Retry(total=1, connect=None, read=None, redirect=None, status=None)) after connection broken by 'ReadTimeoutError(\"HTTPSConnectionPool(host='nominatim.openstreetmap.org', port=443): Read timed out. (read timeout=1)\")': /search?q=E+173+ST%2C+New+York&format=json&limit=1\n",
            " 91%|█████████ | 91/100 [02:29<00:15,  1.76s/it]WARNING:urllib3.connectionpool:Retrying (Retry(total=1, connect=None, read=None, redirect=None, status=None)) after connection broken by 'ReadTimeoutError(\"HTTPSConnectionPool(host='nominatim.openstreetmap.org', port=443): Read timed out. (read timeout=1)\")': /search?q=E+167+ST%2C+New+York&format=json&limit=1\n",
            "WARNING:urllib3.connectionpool:Retrying (Retry(total=0, connect=None, read=None, redirect=None, status=None)) after connection broken by 'ReadTimeoutError(\"HTTPSConnectionPool(host='nominatim.openstreetmap.org', port=443): Read timed out. (read timeout=1)\")': /search?q=E+167+ST%2C+New+York&format=json&limit=1\n",
            " 94%|█████████▍| 94/100 [02:34<00:09,  1.63s/it]WARNING:urllib3.connectionpool:Retrying (Retry(total=1, connect=None, read=None, redirect=None, status=None)) after connection broken by 'ReadTimeoutError(\"HTTPSConnectionPool(host='nominatim.openstreetmap.org', port=443): Read timed out. (read timeout=1)\")': /search?q=E+231+ST%2C+New+York&format=json&limit=1\n",
            "WARNING:urllib3.connectionpool:Retrying (Retry(total=0, connect=None, read=None, redirect=None, status=None)) after connection broken by 'ReadTimeoutError(\"HTTPSConnectionPool(host='nominatim.openstreetmap.org', port=443): Read timed out. (read timeout=1)\")': /search?q=E+231+ST%2C+New+York&format=json&limit=1\n",
            " 97%|█████████▋| 97/100 [02:39<00:04,  1.47s/it]WARNING:urllib3.connectionpool:Retrying (Retry(total=1, connect=None, read=None, redirect=None, status=None)) after connection broken by 'ReadTimeoutError(\"HTTPSConnectionPool(host='nominatim.openstreetmap.org', port=443): Read timed out. (read timeout=1)\")': /search?q=PARK+AVE%2C+New+York&format=json&limit=1\n",
            " 99%|█████████▉| 99/100 [02:42<00:01,  1.43s/it]WARNING:urllib3.connectionpool:Retrying (Retry(total=1, connect=None, read=None, redirect=None, status=None)) after connection broken by 'ReadTimeoutError(\"HTTPSConnectionPool(host='nominatim.openstreetmap.org', port=443): Read timed out. (read timeout=1)\")': /search?q=QUEENS+BLVD%2C+New+York&format=json&limit=1\n",
            "100%|██████████| 100/100 [02:45<00:00,  1.62s/it]WARNING:urllib3.connectionpool:Retrying (Retry(total=1, connect=None, read=None, redirect=None, status=None)) after connection broken by 'ReadTimeoutError(\"HTTPSConnectionPool(host='nominatim.openstreetmap.org', port=443): Read timed out. (read timeout=1)\")': /search?q=QUEENS+BLVD%2C+New+York&format=json&limit=1\n",
            "100%|██████████| 100/100 [02:47<00:00,  1.67s/it]\n"
          ]
        }
      ]
    },
    {
      "cell_type": "code",
      "source": [
        "#display results\n",
        "print(df)\n",
        "#save geocoded dataset to a .csv\n",
        "df.to_csv('geocoded_stop_frisk.csv', index=False)"
      ],
      "metadata": {
        "colab": {
          "base_uri": "https://localhost:8080/"
        },
        "id": "BTfDeM9cyGbf",
        "outputId": "9bd54c15-d55a-4cb1-b55b-70cbeb92c0a2"
      },
      "execution_count": 11,
      "outputs": [
        {
          "output_type": "stream",
          "name": "stdout",
          "text": [
            "      STOP_ID STOP_FRISK_DATE STOP_FRISK_TIME  YEAR2   MONTH2      DAY2  \\\n",
            "0   279772561          1/1/24        01:58:00   2024  January    Monday   \n",
            "1   279772564          1/1/24        00:48:00   2024  January    Monday   \n",
            "2   279772565          1/1/24        01:10:00   2024  January    Monday   \n",
            "3   279772566          1/1/24        01:10:00   2024  January    Monday   \n",
            "4   279772567          1/1/24        01:10:00   2024  January    Monday   \n",
            "..        ...             ...             ...    ...      ...       ...   \n",
            "95  279990285          1/1/24        19:29:00   2024  January    Monday   \n",
            "96  279990286          1/1/24        19:29:00   2024  January    Monday   \n",
            "97  279990288          1/4/24        02:40:00   2024  January  Thursday   \n",
            "98  279990292          1/4/24        00:02:00   2024  January  Thursday   \n",
            "99  279990293          1/4/24        00:02:00   2024  January  Thursday   \n",
            "\n",
            "         STOP_WAS_INITIATED ISSUING_OFFICER_RANK  \\\n",
            "0   Based on Self Initiated                   PO   \n",
            "1   Based on Self Initiated                   PO   \n",
            "2        Based on Radio Run                   PO   \n",
            "3        Based on Radio Run                   PO   \n",
            "4        Based on Radio Run                   PO   \n",
            "..                      ...                  ...   \n",
            "95  Based on Self Initiated                   PO   \n",
            "96  Based on Self Initiated                   PO   \n",
            "97  Based on Self Initiated                   PO   \n",
            "98       Based on Radio Run                   PO   \n",
            "99       Based on Radio Run                   PO   \n",
            "\n",
            "    ISSUING_OFFICER_COMMAND_CODE SUPERVISING_OFFICER_RANK  ...  \\\n",
            "0                             46                      SGT  ...   \n",
            "1                            120                      SGT  ...   \n",
            "2                            871                      SGT  ...   \n",
            "3                            871                      SGT  ...   \n",
            "4                            871                      SGT  ...   \n",
            "..                           ...                      ...  ...   \n",
            "95                           803                      SGT  ...   \n",
            "96                           803                      SGT  ...   \n",
            "97                            90                      SGT  ...   \n",
            "98                           108                      SGT  ...   \n",
            "99                           108                      SGT  ...   \n",
            "\n",
            "    SUSPECT_WEIGHT SUSPECT_BODY_BUILD_TYPE SUSPECT_EYE_COLOR  \\\n",
            "0              160                     THN               BRO   \n",
            "1              200                     MED               BRO   \n",
            "2              140                     THN               BRO   \n",
            "3              120                     THN               BRO   \n",
            "4              120                     THN               BRO   \n",
            "..             ...                     ...               ...   \n",
            "95          (null)                     MED               BRO   \n",
            "96             180                  (null)               BRO   \n",
            "97             155                     THN               BRO   \n",
            "98             130                     MED               BRO   \n",
            "99             150                     THN               BRO   \n",
            "\n",
            "   SUSPECT_HAIR_COLOR SUSPECT_OTHER_DESCRIPTION  STOP_LOCATION_STREET_NAME  \\\n",
            "0                 BLK                    (null)                   CLAY AVE   \n",
            "1                 BLK   BLACK HOODIE SWEATSHIRT                FARRAGUT RD   \n",
            "2                 BLK               SCAR ON LIP                        NaN   \n",
            "3                 BLK       RED JACKET/ RED HAT                        NaN   \n",
            "4                 BLK              BLACK JACKET                        NaN   \n",
            "..                ...                       ...                        ...   \n",
            "95                XXX                    (null)                  MARCY AVE   \n",
            "96                XXX                    (null)                   PARK AVE   \n",
            "97                XXX              BLACK JACKET                 GRAHAM AVE   \n",
            "98                BLK                RED JACKET                QUEENS BLVD   \n",
            "99                BLK              BLACK JACKET                QUEENS BLVD   \n",
            "\n",
            "   STOP_LOCATION_BORO_NAME      city   latitude  longitude  \n",
            "0                    BRONX  New York  40.837045 -73.908092  \n",
            "1                 BROOKLYN  New York  40.642810 -73.909894  \n",
            "2                 BROOKLYN  New York   7.963112 -11.763687  \n",
            "3                 BROOKLYN  New York   7.963112 -11.763687  \n",
            "4                 BROOKLYN  New York   7.963112 -11.763687  \n",
            "..                     ...       ...        ...        ...  \n",
            "95                BROOKLYN  New York  40.708406 -73.957914  \n",
            "96                BROOKLYN  New York  40.856968 -73.893581  \n",
            "97                BROOKLYN  New York  40.714523 -73.944388  \n",
            "98                  QUEENS  New York  40.711885 -73.824963  \n",
            "99                  QUEENS  New York  40.711885 -73.824963  \n",
            "\n",
            "[100 rows x 77 columns]\n"
          ]
        }
      ]
    }
  ]
}