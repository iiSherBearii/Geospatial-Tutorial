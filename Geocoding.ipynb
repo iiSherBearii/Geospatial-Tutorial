{
  "nbformat": 4,
  "nbformat_minor": 0,
  "metadata": {
    "colab": {
      "provenance": [],
      "authorship_tag": "ABX9TyP7729qoxIWsrd2HXr04anX",
      "include_colab_link": true
    },
    "kernelspec": {
      "name": "python3",
      "display_name": "Python 3"
    },
    "language_info": {
      "name": "python"
    }
  },
  "cells": [
    {
      "cell_type": "markdown",
      "metadata": {
        "id": "view-in-github",
        "colab_type": "text"
      },
      "source": [
        "<a href=\"https://colab.research.google.com/github/iiSherBearii/Geospatial-Tutorial/blob/main/Geocoding.ipynb\" target=\"_parent\"><img src=\"https://colab.research.google.com/assets/colab-badge.svg\" alt=\"Open In Colab\"/></a>"
      ]
    },
    {
      "cell_type": "markdown",
      "source": [
        "#Welcome to Geocoding and Shapefiles!\n",
        "Before you can analyze and visualize spatial data, you often have to start with converting that data into a shapefile- a special spatial data format used to create maps and run spatial analysis like spatial lag models.\n",
        "\n",
        "Every location on Earth has a unique geocode identifier to tie their spatial location to their non-spatial data like population sizes etc. When using spatial databases like the U.S. Census' American Community Survey (ACS), every location has a unique GEOID that acts as a geocode to tie their locations to the survey data provided in the ACS database.\n",
        "\n",
        "A shapefile is a spatial dataset that contains shapes like polygons or points that are matched to a unique geoid. These are used to create the maps we see in most spatial research. But when working with raw address datasets, we can't make maps out of them without matching them to a GEOID through the X, Y coordinates of the address.\n",
        "\n",
        "Today we'll learn how to take raw address files, geocode them through a geocoding server, and transform them into a shapefile for mapping!\n",
        "\n",
        "##What is Geocoding?\n",
        "Geocoding is the process of transforming location descriptions (like addresses or place names) into geographic coordinates (latitude and longitude), which are then used to place markers or position maps. Reverse geocoding is the opposite process, converting geographic coordinates into a human-readable address."
      ],
      "metadata": {
        "id": "wxvRyhFX7pn2"
      }
    },
    {
      "cell_type": "markdown",
      "source": [
        "#Downloading Raw Address File\n",
        "\n",
        "If you have access to a dataset with spatial identifiers, like addresses, you have the ability to create those into geospatial data by geocoding them and transforming them into a shapefile. For today's tutorial, we'll be using a dataset from the NYPD Stop, Question and Frisk Database (https://www.nyc.gov/site/nypd/stats/reports-analysis/stopfrisk.page).\n",
        "\n",
        "This dataset contains incident reports of when NYPD officers stopped a pedestraian due to suspicion. Within the dataset is a column for the location of where this stop and frisk took place. That's all we need to start geocoding."
      ],
      "metadata": {
        "id": "RuBUEbaI7-J9"
      }
    },
    {
      "cell_type": "code",
      "execution_count": 3,
      "metadata": {
        "id": "d3WQvdR-7os7",
        "colab": {
          "base_uri": "https://localhost:8080/",
          "height": 1000
        },
        "outputId": "db7ed43f-e1f2-407d-9353-bbc96b4d20b3"
      },
      "outputs": [
        {
          "output_type": "stream",
          "name": "stdout",
          "text": [
            "Requirement already satisfied: pandas in /usr/local/lib/python3.11/dist-packages (2.2.2)\n",
            "Requirement already satisfied: numpy>=1.23.2 in /usr/local/lib/python3.11/dist-packages (from pandas) (2.0.2)\n",
            "Requirement already satisfied: python-dateutil>=2.8.2 in /usr/local/lib/python3.11/dist-packages (from pandas) (2.8.2)\n",
            "Requirement already satisfied: pytz>=2020.1 in /usr/local/lib/python3.11/dist-packages (from pandas) (2025.1)\n",
            "Requirement already satisfied: tzdata>=2022.7 in /usr/local/lib/python3.11/dist-packages (from pandas) (2025.1)\n",
            "Requirement already satisfied: six>=1.5 in /usr/local/lib/python3.11/dist-packages (from python-dateutil>=2.8.2->pandas) (1.17.0)\n",
            "Requirement already satisfied: geopandas in /usr/local/lib/python3.11/dist-packages (1.0.1)\n",
            "Requirement already satisfied: numpy>=1.22 in /usr/local/lib/python3.11/dist-packages (from geopandas) (2.0.2)\n",
            "Requirement already satisfied: pyogrio>=0.7.2 in /usr/local/lib/python3.11/dist-packages (from geopandas) (0.10.0)\n",
            "Requirement already satisfied: packaging in /usr/local/lib/python3.11/dist-packages (from geopandas) (24.2)\n",
            "Requirement already satisfied: pandas>=1.4.0 in /usr/local/lib/python3.11/dist-packages (from geopandas) (2.2.2)\n",
            "Requirement already satisfied: pyproj>=3.3.0 in /usr/local/lib/python3.11/dist-packages (from geopandas) (3.7.1)\n",
            "Requirement already satisfied: shapely>=2.0.0 in /usr/local/lib/python3.11/dist-packages (from geopandas) (2.0.7)\n",
            "Requirement already satisfied: python-dateutil>=2.8.2 in /usr/local/lib/python3.11/dist-packages (from pandas>=1.4.0->geopandas) (2.8.2)\n",
            "Requirement already satisfied: pytz>=2020.1 in /usr/local/lib/python3.11/dist-packages (from pandas>=1.4.0->geopandas) (2025.1)\n",
            "Requirement already satisfied: tzdata>=2022.7 in /usr/local/lib/python3.11/dist-packages (from pandas>=1.4.0->geopandas) (2025.1)\n",
            "Requirement already satisfied: certifi in /usr/local/lib/python3.11/dist-packages (from pyogrio>=0.7.2->geopandas) (2025.1.31)\n",
            "Requirement already satisfied: six>=1.5 in /usr/local/lib/python3.11/dist-packages (from python-dateutil>=2.8.2->pandas>=1.4.0->geopandas) (1.17.0)\n",
            "Requirement already satisfied: geopy in /usr/local/lib/python3.11/dist-packages (2.4.1)\n",
            "Requirement already satisfied: geographiclib<3,>=1.52 in /usr/local/lib/python3.11/dist-packages (from geopy) (2.0)\n",
            "\u001b[31mERROR: Operation cancelled by user\u001b[0m\u001b[31m\n",
            "\u001b[0mTraceback (most recent call last):\n",
            "  File \"/usr/local/lib/python3.11/dist-packages/pip/_internal/cli/base_command.py\", line 179, in exc_logging_wrapper\n",
            "    status = run_func(*args)\n",
            "             ^^^^^^^^^^^^^^^\n",
            "  File \"/usr/local/lib/python3.11/dist-packages/pip/_internal/cli/req_command.py\", line 67, in wrapper\n",
            "    return func(self, options, args)\n",
            "           ^^^^^^^^^^^^^^^^^^^^^^^^^\n",
            "  File \"/usr/local/lib/python3.11/dist-packages/pip/_internal/commands/install.py\", line 447, in run\n",
            "    conflicts = self._determine_conflicts(to_install)\n",
            "                ^^^^^^^^^^^^^^^^^^^^^^^^^^^^^^^^^^^^^\n",
            "  File \"/usr/local/lib/python3.11/dist-packages/pip/_internal/commands/install.py\", line 578, in _determine_conflicts\n",
            "    return check_install_conflicts(to_install)\n",
            "           ^^^^^^^^^^^^^^^^^^^^^^^^^^^^^^^^^^^\n",
            "  File \"/usr/local/lib/python3.11/dist-packages/pip/_internal/operations/check.py\", line 101, in check_install_conflicts\n",
            "    package_set, _ = create_package_set_from_installed()\n",
            "                     ^^^^^^^^^^^^^^^^^^^^^^^^^^^^^^^^^^^\n",
            "  File \"/usr/local/lib/python3.11/dist-packages/pip/_internal/operations/check.py\", line 42, in create_package_set_from_installed\n",
            "    dependencies = list(dist.iter_dependencies())\n",
            "                   ^^^^^^^^^^^^^^^^^^^^^^^^^^^^^^\n",
            "  File \"/usr/local/lib/python3.11/dist-packages/pip/_internal/metadata/importlib/_dists.py\", line 219, in iter_dependencies\n",
            "    for req_string in self.metadata.get_all(\"Requires-Dist\", []):\n",
            "                      ^^^^^^^^^^^^^^^^^^^^^^^^^^^^^^^^^^^^^^^^^^\n",
            "  File \"/usr/lib/python3.11/email/message.py\", line 538, in get_all\n",
            "    values.append(self.policy.header_fetch_parse(k, v))\n",
            "                  ^^^^^^^^^^^^^^^^^^^^^^^^^^^^^^^^^^^^\n",
            "  File \"/usr/lib/python3.11/email/_policybase.py\", line 324, in header_fetch_parse\n",
            "    return self._sanitize_header(name, value)\n",
            "           ^^^^^^^^^^^^^^^^^^^^^^^^^^^^^^^^^^\n",
            "  File \"/usr/lib/python3.11/email/_policybase.py\", line 289, in _sanitize_header\n",
            "    def _sanitize_header(self, name, value):\n",
            "\n",
            "KeyboardInterrupt\n",
            "\n",
            "During handling of the above exception, another exception occurred:\n",
            "\n",
            "Traceback (most recent call last):\n",
            "  File \"/usr/local/bin/pip3\", line 10, in <module>\n",
            "    sys.exit(main())\n",
            "             ^^^^^^\n",
            "  File \"/usr/local/lib/python3.11/dist-packages/pip/_internal/cli/main.py\", line 80, in main\n",
            "    return command.main(cmd_args)\n",
            "           ^^^^^^^^^^^^^^^^^^^^^^\n",
            "  File \"/usr/local/lib/python3.11/dist-packages/pip/_internal/cli/base_command.py\", line 100, in main\n",
            "    return self._main(args)\n",
            "           ^^^^^^^^^^^^^^^^\n",
            "  File \"/usr/local/lib/python3.11/dist-packages/pip/_internal/cli/base_command.py\", line 232, in _main\n",
            "    return run(options, args)\n",
            "           ^^^^^^^^^^^^^^^^^^\n",
            "  File \"/usr/local/lib/python3.11/dist-packages/pip/_internal/cli/base_command.py\", line 216, in exc_logging_wrapper\n",
            "    logger.debug(\"Exception information:\", exc_info=True)\n",
            "  File \"/usr/lib/python3.11/logging/__init__.py\", line 1477, in debug\n",
            "    self._log(DEBUG, msg, args, **kwargs)\n",
            "  File \"/usr/lib/python3.11/logging/__init__.py\", line 1634, in _log\n",
            "    self.handle(record)\n",
            "  File \"/usr/lib/python3.11/logging/__init__.py\", line 1644, in handle\n",
            "    self.callHandlers(record)\n",
            "  File \"/usr/lib/python3.11/logging/__init__.py\", line 1706, in callHandlers\n",
            "    hdlr.handle(record)\n",
            "  File \"/usr/lib/python3.11/logging/__init__.py\", line 978, in handle\n",
            "    self.emit(record)\n",
            "  File \"/usr/lib/python3.11/logging/handlers.py\", line 75, in emit\n",
            "    logging.FileHandler.emit(self, record)\n",
            "  File \"/usr/lib/python3.11/logging/__init__.py\", line 1230, in emit\n",
            "    StreamHandler.emit(self, record)\n",
            "  File \"/usr/lib/python3.11/logging/__init__.py\", line 1110, in emit\n",
            "    msg = self.format(record)\n",
            "          ^^^^^^^^^^^^^^^^^^^\n",
            "  File \"/usr/lib/python3.11/logging/__init__.py\", line 953, in format\n",
            "    return fmt.format(record)\n",
            "           ^^^^^^^^^^^^^^^^^^\n",
            "  File \"/usr/local/lib/python3.11/dist-packages/pip/_internal/utils/logging.py\", line 112, in format\n",
            "    formatted = super().format(record)\n",
            "                ^^^^^^^^^^^^^^^^^^^^^^\n",
            "  File \"/usr/lib/python3.11/logging/__init__.py\", line 695, in format\n",
            "    record.exc_text = self.formatException(record.exc_info)\n",
            "                      ^^^^^^^^^^^^^^^^^^^^^^^^^^^^^^^^^^^^^\n",
            "  File \"/usr/lib/python3.11/logging/__init__.py\", line 645, in formatException\n",
            "    traceback.print_exception(ei[0], ei[1], tb, None, sio)\n",
            "  File \"/usr/lib/python3.11/traceback.py\", line 124, in print_exception\n",
            "    te = TracebackException(type(value), value, tb, limit=limit, compact=True)\n",
            "         ^^^^^^^^^^^^^^^^^^^^^^^^^^^^^^^^^^^^^^^^^^^^^^^^^^^^^^^^^^^^^^^^^^^^^\n",
            "  File \"/usr/lib/python3.11/traceback.py\", line 728, in __init__\n",
            "    self.stack = StackSummary._extract_from_extended_frame_gen(\n",
            "                 ^^^^^^^^^^^^^^^^^^^^^^^^^^^^^^^^^^^^^^^^^^^^^^\n",
            "  File \"/usr/lib/python3.11/traceback.py\", line 433, in _extract_from_extended_frame_gen\n",
            "    f.line\n",
            "  File \"/usr/lib/python3.11/traceback.py\", line 318, in line\n",
            "    self._line = linecache.getline(self.filename, self.lineno)\n",
            "                 ^^^^^^^^^^^^^^^^^^^^^^^^^^^^^^^^^^^^^^^^^^^^^\n",
            "  File \"/usr/lib/python3.11/linecache.py\", line 30, in getline\n",
            "    lines = getlines(filename, module_globals)\n",
            "            ^^^^^^^^^^^^^^^^^^^^^^^^^^^^^^^^^^\n",
            "  File \"/usr/lib/python3.11/linecache.py\", line 46, in getlines\n",
            "    return updatecache(filename, module_globals)\n",
            "           ^^^^^^^^^^^^^^^^^^^^^^^^^^^^^^^^^^^^^\n",
            "  File \"/usr/lib/python3.11/linecache.py\", line 136, in updatecache\n",
            "    with tokenize.open(fullname) as fp:\n",
            "         ^^^^^^^^^^^^^^^^^^^^^^^\n",
            "  File \"/usr/lib/python3.11/tokenize.py\", line 398, in open\n",
            "    encoding, lines = detect_encoding(buffer.readline)\n",
            "                      ^^^^^^^^^^^^^^^^^^^^^^^^^^^^^^^^\n",
            "  File \"/usr/lib/python3.11/tokenize.py\", line 367, in detect_encoding\n",
            "    first = read_or_stop()\n",
            "            ^^^^^^^^^^^^^^\n",
            "  File \"/usr/lib/python3.11/tokenize.py\", line 325, in read_or_stop\n",
            "    return readline()\n",
            "           ^^^^^^^^^^\n",
            "KeyboardInterrupt\n",
            "^C\n",
            "Requirement already satisfied: python-dotenv in /usr/local/lib/python3.11/dist-packages (1.0.1)\n"
          ]
        },
        {
          "output_type": "error",
          "ename": "ParserError",
          "evalue": "Error tokenizing data. C error: Expected 1 fields in line 42, saw 40\n",
          "traceback": [
            "\u001b[0;31m---------------------------------------------------------------------------\u001b[0m",
            "\u001b[0;31mParserError\u001b[0m                               Traceback (most recent call last)",
            "\u001b[0;32m<ipython-input-3-5066728326d5>\u001b[0m in \u001b[0;36m<cell line: 0>\u001b[0;34m()\u001b[0m\n\u001b[1;32m     13\u001b[0m \u001b[0;31m# Import CSV data\u001b[0m\u001b[0;34m\u001b[0m\u001b[0;34m\u001b[0m\u001b[0m\n\u001b[1;32m     14\u001b[0m \u001b[0murl\u001b[0m \u001b[0;34m=\u001b[0m \u001b[0;34m'https://github.com/iiSherBearii/Geospatial-Tutorial/blob/main/stop_frisk.csv'\u001b[0m\u001b[0;34m\u001b[0m\u001b[0;34m\u001b[0m\u001b[0m\n\u001b[0;32m---> 15\u001b[0;31m \u001b[0mdf\u001b[0m \u001b[0;34m=\u001b[0m \u001b[0mpd\u001b[0m\u001b[0;34m.\u001b[0m\u001b[0mread_csv\u001b[0m\u001b[0;34m(\u001b[0m\u001b[0murl\u001b[0m\u001b[0;34m)\u001b[0m\u001b[0;34m\u001b[0m\u001b[0;34m\u001b[0m\u001b[0m\n\u001b[0m",
            "\u001b[0;32m/usr/local/lib/python3.11/dist-packages/pandas/io/parsers/readers.py\u001b[0m in \u001b[0;36mread_csv\u001b[0;34m(filepath_or_buffer, sep, delimiter, header, names, index_col, usecols, dtype, engine, converters, true_values, false_values, skipinitialspace, skiprows, skipfooter, nrows, na_values, keep_default_na, na_filter, verbose, skip_blank_lines, parse_dates, infer_datetime_format, keep_date_col, date_parser, date_format, dayfirst, cache_dates, iterator, chunksize, compression, thousands, decimal, lineterminator, quotechar, quoting, doublequote, escapechar, comment, encoding, encoding_errors, dialect, on_bad_lines, delim_whitespace, low_memory, memory_map, float_precision, storage_options, dtype_backend)\u001b[0m\n\u001b[1;32m   1024\u001b[0m     \u001b[0mkwds\u001b[0m\u001b[0;34m.\u001b[0m\u001b[0mupdate\u001b[0m\u001b[0;34m(\u001b[0m\u001b[0mkwds_defaults\u001b[0m\u001b[0;34m)\u001b[0m\u001b[0;34m\u001b[0m\u001b[0;34m\u001b[0m\u001b[0m\n\u001b[1;32m   1025\u001b[0m \u001b[0;34m\u001b[0m\u001b[0m\n\u001b[0;32m-> 1026\u001b[0;31m     \u001b[0;32mreturn\u001b[0m \u001b[0m_read\u001b[0m\u001b[0;34m(\u001b[0m\u001b[0mfilepath_or_buffer\u001b[0m\u001b[0;34m,\u001b[0m \u001b[0mkwds\u001b[0m\u001b[0;34m)\u001b[0m\u001b[0;34m\u001b[0m\u001b[0;34m\u001b[0m\u001b[0m\n\u001b[0m\u001b[1;32m   1027\u001b[0m \u001b[0;34m\u001b[0m\u001b[0m\n\u001b[1;32m   1028\u001b[0m \u001b[0;34m\u001b[0m\u001b[0m\n",
            "\u001b[0;32m/usr/local/lib/python3.11/dist-packages/pandas/io/parsers/readers.py\u001b[0m in \u001b[0;36m_read\u001b[0;34m(filepath_or_buffer, kwds)\u001b[0m\n\u001b[1;32m    624\u001b[0m \u001b[0;34m\u001b[0m\u001b[0m\n\u001b[1;32m    625\u001b[0m     \u001b[0;32mwith\u001b[0m \u001b[0mparser\u001b[0m\u001b[0;34m:\u001b[0m\u001b[0;34m\u001b[0m\u001b[0;34m\u001b[0m\u001b[0m\n\u001b[0;32m--> 626\u001b[0;31m         \u001b[0;32mreturn\u001b[0m \u001b[0mparser\u001b[0m\u001b[0;34m.\u001b[0m\u001b[0mread\u001b[0m\u001b[0;34m(\u001b[0m\u001b[0mnrows\u001b[0m\u001b[0;34m)\u001b[0m\u001b[0;34m\u001b[0m\u001b[0;34m\u001b[0m\u001b[0m\n\u001b[0m\u001b[1;32m    627\u001b[0m \u001b[0;34m\u001b[0m\u001b[0m\n\u001b[1;32m    628\u001b[0m \u001b[0;34m\u001b[0m\u001b[0m\n",
            "\u001b[0;32m/usr/local/lib/python3.11/dist-packages/pandas/io/parsers/readers.py\u001b[0m in \u001b[0;36mread\u001b[0;34m(self, nrows)\u001b[0m\n\u001b[1;32m   1921\u001b[0m                     \u001b[0mcolumns\u001b[0m\u001b[0;34m,\u001b[0m\u001b[0;34m\u001b[0m\u001b[0;34m\u001b[0m\u001b[0m\n\u001b[1;32m   1922\u001b[0m                     \u001b[0mcol_dict\u001b[0m\u001b[0;34m,\u001b[0m\u001b[0;34m\u001b[0m\u001b[0;34m\u001b[0m\u001b[0m\n\u001b[0;32m-> 1923\u001b[0;31m                 \u001b[0;34m)\u001b[0m \u001b[0;34m=\u001b[0m \u001b[0mself\u001b[0m\u001b[0;34m.\u001b[0m\u001b[0m_engine\u001b[0m\u001b[0;34m.\u001b[0m\u001b[0mread\u001b[0m\u001b[0;34m(\u001b[0m  \u001b[0;31m# type: ignore[attr-defined]\u001b[0m\u001b[0;34m\u001b[0m\u001b[0;34m\u001b[0m\u001b[0m\n\u001b[0m\u001b[1;32m   1924\u001b[0m                     \u001b[0mnrows\u001b[0m\u001b[0;34m\u001b[0m\u001b[0;34m\u001b[0m\u001b[0m\n\u001b[1;32m   1925\u001b[0m                 )\n",
            "\u001b[0;32m/usr/local/lib/python3.11/dist-packages/pandas/io/parsers/c_parser_wrapper.py\u001b[0m in \u001b[0;36mread\u001b[0;34m(self, nrows)\u001b[0m\n\u001b[1;32m    232\u001b[0m         \u001b[0;32mtry\u001b[0m\u001b[0;34m:\u001b[0m\u001b[0;34m\u001b[0m\u001b[0;34m\u001b[0m\u001b[0m\n\u001b[1;32m    233\u001b[0m             \u001b[0;32mif\u001b[0m \u001b[0mself\u001b[0m\u001b[0;34m.\u001b[0m\u001b[0mlow_memory\u001b[0m\u001b[0;34m:\u001b[0m\u001b[0;34m\u001b[0m\u001b[0;34m\u001b[0m\u001b[0m\n\u001b[0;32m--> 234\u001b[0;31m                 \u001b[0mchunks\u001b[0m \u001b[0;34m=\u001b[0m \u001b[0mself\u001b[0m\u001b[0;34m.\u001b[0m\u001b[0m_reader\u001b[0m\u001b[0;34m.\u001b[0m\u001b[0mread_low_memory\u001b[0m\u001b[0;34m(\u001b[0m\u001b[0mnrows\u001b[0m\u001b[0;34m)\u001b[0m\u001b[0;34m\u001b[0m\u001b[0;34m\u001b[0m\u001b[0m\n\u001b[0m\u001b[1;32m    235\u001b[0m                 \u001b[0;31m# destructive to chunks\u001b[0m\u001b[0;34m\u001b[0m\u001b[0;34m\u001b[0m\u001b[0m\n\u001b[1;32m    236\u001b[0m                 \u001b[0mdata\u001b[0m \u001b[0;34m=\u001b[0m \u001b[0m_concatenate_chunks\u001b[0m\u001b[0;34m(\u001b[0m\u001b[0mchunks\u001b[0m\u001b[0;34m)\u001b[0m\u001b[0;34m\u001b[0m\u001b[0;34m\u001b[0m\u001b[0m\n",
            "\u001b[0;32mparsers.pyx\u001b[0m in \u001b[0;36mpandas._libs.parsers.TextReader.read_low_memory\u001b[0;34m()\u001b[0m\n",
            "\u001b[0;32mparsers.pyx\u001b[0m in \u001b[0;36mpandas._libs.parsers.TextReader._read_rows\u001b[0;34m()\u001b[0m\n",
            "\u001b[0;32mparsers.pyx\u001b[0m in \u001b[0;36mpandas._libs.parsers.TextReader._tokenize_rows\u001b[0;34m()\u001b[0m\n",
            "\u001b[0;32mparsers.pyx\u001b[0m in \u001b[0;36mpandas._libs.parsers.TextReader._check_tokenize_status\u001b[0;34m()\u001b[0m\n",
            "\u001b[0;32mparsers.pyx\u001b[0m in \u001b[0;36mpandas._libs.parsers.raise_parser_error\u001b[0;34m()\u001b[0m\n",
            "\u001b[0;31mParserError\u001b[0m: Error tokenizing data. C error: Expected 1 fields in line 42, saw 40\n"
          ]
        }
      ],
      "source": [
        "#Download packages\n",
        "!pip install pandas\n",
        "!pip install geopandas\n",
        "!pip install geopy\n",
        "!pip install python-dotenv\n",
        "\n",
        "import pandas as pd\n",
        "import geopandas as gpd\n",
        "from geopy.geocoders import Nominatim\n",
        "from geopy.extra.rate_limiter import RateLimiter\n",
        "from tqdm import tqdm #for progress bar in the batch geocoding script"
      ]
    },
    {
      "cell_type": "code",
      "source": [
        "# Import CSV data\n",
        "url = 'https://raw.githubusercontent.com/iiSherBearii/Geospatial-Tutorial/refs/heads/main/stop_frisk.csv'\n",
        "df = pd.read_csv(url)"
      ],
      "metadata": {
        "id": "HaeD3yzmxz9a"
      },
      "execution_count": 10,
      "outputs": []
    },
    {
      "cell_type": "code",
      "source": [
        "print(df)"
      ],
      "metadata": {
        "colab": {
          "base_uri": "https://localhost:8080/"
        },
        "id": "6fkS1wpuy5KP",
        "outputId": "d16eb80f-582c-4f87-b634-c7ce9231ffe7"
      },
      "execution_count": 11,
      "outputs": [
        {
          "output_type": "stream",
          "name": "stdout",
          "text": [
            "      STOP_ID STOP_FRISK_DATE STOP_FRISK_TIME  YEAR2   MONTH2      DAY2  \\\n",
            "0   279772561          1/1/24        01:58:00   2024  January    Monday   \n",
            "1   279772564          1/1/24        00:48:00   2024  January    Monday   \n",
            "2   279772565          1/1/24        01:10:00   2024  January    Monday   \n",
            "3   279772566          1/1/24        01:10:00   2024  January    Monday   \n",
            "4   279772567          1/1/24        01:10:00   2024  January    Monday   \n",
            "..        ...             ...             ...    ...      ...       ...   \n",
            "95  279990285          1/1/24        19:29:00   2024  January    Monday   \n",
            "96  279990286          1/1/24        19:29:00   2024  January    Monday   \n",
            "97  279990288          1/4/24        02:40:00   2024  January  Thursday   \n",
            "98  279990292          1/4/24        00:02:00   2024  January  Thursday   \n",
            "99  279990293          1/4/24        00:02:00   2024  January  Thursday   \n",
            "\n",
            "         STOP_WAS_INITIATED ISSUING_OFFICER_RANK  \\\n",
            "0   Based on Self Initiated                   PO   \n",
            "1   Based on Self Initiated                   PO   \n",
            "2        Based on Radio Run                   PO   \n",
            "3        Based on Radio Run                   PO   \n",
            "4        Based on Radio Run                   PO   \n",
            "..                      ...                  ...   \n",
            "95  Based on Self Initiated                   PO   \n",
            "96  Based on Self Initiated                   PO   \n",
            "97  Based on Self Initiated                   PO   \n",
            "98       Based on Radio Run                   PO   \n",
            "99       Based on Radio Run                   PO   \n",
            "\n",
            "    ISSUING_OFFICER_COMMAND_CODE SUPERVISING_OFFICER_RANK  ...  \\\n",
            "0                             46                      SGT  ...   \n",
            "1                            120                      SGT  ...   \n",
            "2                            871                      SGT  ...   \n",
            "3                            871                      SGT  ...   \n",
            "4                            871                      SGT  ...   \n",
            "..                           ...                      ...  ...   \n",
            "95                           803                      SGT  ...   \n",
            "96                           803                      SGT  ...   \n",
            "97                            90                      SGT  ...   \n",
            "98                           108                      SGT  ...   \n",
            "99                           108                      SGT  ...   \n",
            "\n",
            "    SUSPECT_RACE_DESCRIPTION SUSPECT_HEIGHT SUSPECT_WEIGHT  \\\n",
            "0             WHITE HISPANIC           5.11            160   \n",
            "1                      BLACK            6.1            200   \n",
            "2             WHITE HISPANIC              6            140   \n",
            "3             WHITE HISPANIC              5            120   \n",
            "4             WHITE HISPANIC              5            120   \n",
            "..                       ...            ...            ...   \n",
            "95                     BLACK            5.6         (null)   \n",
            "96                     BLACK              6            180   \n",
            "97                     BLACK            5.1            155   \n",
            "98            WHITE HISPANIC            5.7            130   \n",
            "99            WHITE HISPANIC            5.7            150   \n",
            "\n",
            "   SUSPECT_BODY_BUILD_TYPE SUSPECT_EYE_COLOR  SUSPECT_HAIR_COLOR  \\\n",
            "0                      THN               BRO                 BLK   \n",
            "1                      MED               BRO                 BLK   \n",
            "2                      THN               BRO                 BLK   \n",
            "3                      THN               BRO                 BLK   \n",
            "4                      THN               BRO                 BLK   \n",
            "..                     ...               ...                 ...   \n",
            "95                     MED               BRO                 XXX   \n",
            "96                  (null)               BRO                 XXX   \n",
            "97                     THN               BRO                 XXX   \n",
            "98                     MED               BRO                 BLK   \n",
            "99                     THN               BRO                 BLK   \n",
            "\n",
            "   SUSPECT_OTHER_DESCRIPTION  STOP_LOCATION_STREET_NAME  \\\n",
            "0                     (null)                   CLAY AVE   \n",
            "1    BLACK HOODIE SWEATSHIRT                FARRAGUT RD   \n",
            "2                SCAR ON LIP                        NaN   \n",
            "3        RED JACKET/ RED HAT                        NaN   \n",
            "4               BLACK JACKET                        NaN   \n",
            "..                       ...                        ...   \n",
            "95                    (null)                  MARCY AVE   \n",
            "96                    (null)                   PARK AVE   \n",
            "97              BLACK JACKET                 GRAHAM AVE   \n",
            "98                RED JACKET                QUEENS BLVD   \n",
            "99              BLACK JACKET                QUEENS BLVD   \n",
            "\n",
            "   STOP_LOCATION_BORO_NAME      city  \n",
            "0                    BRONX  New York  \n",
            "1                 BROOKLYN  New York  \n",
            "2                 BROOKLYN  New York  \n",
            "3                 BROOKLYN  New York  \n",
            "4                 BROOKLYN  New York  \n",
            "..                     ...       ...  \n",
            "95                BROOKLYN  New York  \n",
            "96                BROOKLYN  New York  \n",
            "97                BROOKLYN  New York  \n",
            "98                  QUEENS  New York  \n",
            "99                  QUEENS  New York  \n",
            "\n",
            "[100 rows x 75 columns]\n"
          ]
        }
      ]
    },
    {
      "cell_type": "markdown",
      "source": [
        "#Geocoding using the Nominatim Server (OpenStreetMaps)\n",
        "\n",
        "##What is the Nominatim Server?\n",
        "\"Nominatim is the geocoding software that powers the official OSM site www.openstreetmap.org. It serves 30 million queries per day on a single server.\" - Nominatim\n",
        "\n",
        "##Alternative Spatial Databases\n",
        "  - U.S. Census\n",
        "  - ArcGIS"
      ],
      "metadata": {
        "id": "RKEU2kVYBfDN"
      }
    },
    {
      "cell_type": "code",
      "source": [
        "# Single Address Geocoding Example\n",
        "geolocator = Nominatim\n",
        "location = geolocator.geocode(\"720 E San Ysidro Blvd, San Diego, California, US\")\n",
        "print(f\"Single Address Geocode: {location.latitude}, {location.longitude}\")"
      ],
      "metadata": {
        "id": "cFWgz3x8BQqH",
        "colab": {
          "base_uri": "https://localhost:8080/",
          "height": 184
        },
        "outputId": "9261425d-a02b-465c-adfc-3e07eac783d0"
      },
      "execution_count": 16,
      "outputs": [
        {
          "output_type": "error",
          "ename": "TypeError",
          "evalue": "Nominatim.geocode() missing 1 required positional argument: 'query'",
          "traceback": [
            "\u001b[0;31m---------------------------------------------------------------------------\u001b[0m",
            "\u001b[0;31mTypeError\u001b[0m                                 Traceback (most recent call last)",
            "\u001b[0;32m<ipython-input-16-a34728f6c695>\u001b[0m in \u001b[0;36m<cell line: 0>\u001b[0;34m()\u001b[0m\n\u001b[1;32m      1\u001b[0m \u001b[0;31m# Single Address Geocoding Example\u001b[0m\u001b[0;34m\u001b[0m\u001b[0;34m\u001b[0m\u001b[0m\n\u001b[1;32m      2\u001b[0m \u001b[0mgeolocator\u001b[0m \u001b[0;34m=\u001b[0m \u001b[0mNominatim\u001b[0m\u001b[0;34m\u001b[0m\u001b[0;34m\u001b[0m\u001b[0m\n\u001b[0;32m----> 3\u001b[0;31m \u001b[0mlocation\u001b[0m \u001b[0;34m=\u001b[0m \u001b[0mgeolocator\u001b[0m\u001b[0;34m.\u001b[0m\u001b[0mgeocode\u001b[0m\u001b[0;34m(\u001b[0m\u001b[0;34m\"720 E San Ysidro Blvd, San Diego, California, US\"\u001b[0m\u001b[0;34m)\u001b[0m\u001b[0;34m\u001b[0m\u001b[0;34m\u001b[0m\u001b[0m\n\u001b[0m\u001b[1;32m      4\u001b[0m \u001b[0mprint\u001b[0m\u001b[0;34m(\u001b[0m\u001b[0;34mf\"Single Address Geocode: {location.latitude}, {location.longitude}\"\u001b[0m\u001b[0;34m)\u001b[0m\u001b[0;34m\u001b[0m\u001b[0;34m\u001b[0m\u001b[0m\n",
            "\u001b[0;31mTypeError\u001b[0m: Nominatim.geocode() missing 1 required positional argument: 'query'"
          ]
        }
      ]
    },
    {
      "cell_type": "markdown",
      "source": [
        "##Batch Geocoding"
      ],
      "metadata": {
        "id": "cChcgklKBiex"
      }
    },
    {
      "cell_type": "code",
      "source": [
        "# Batch Geocoding Function (with progress bar)\n",
        "tqdm.pandas()\n",
        "\n",
        "def geocode_address(row):\n",
        "    address = f\"{row['STOP_LOCATION_STREET_NAME']}, {row['city']}\"\n",
        "    try:\n",
        "        location = geolocator.geocode(address)\n",
        "        if location:\n",
        "            return pd.Series({'latitude': location.latitude, 'longitude': location.longitude})\n",
        "        else:\n",
        "            return pd.Series({'latitude': None, 'longitude': None})\n",
        "    except:\n",
        "        return pd.Series({'latitude': None, 'longitude': None})\n",
        "\n",
        "# Apply batch geocoding with progress bar\n",
        "df[['latitude', 'longitude']] = df.progress_apply(geocode_address, axis=1)"
      ],
      "metadata": {
        "id": "Hk-JGVLvBdFx",
        "colab": {
          "base_uri": "https://localhost:8080/"
        },
        "outputId": "79411eee-23fd-433e-cb18-68725514d949"
      },
      "execution_count": 18,
      "outputs": [
        {
          "output_type": "stream",
          "name": "stderr",
          "text": [
            "100%|██████████| 100/100 [00:00<00:00, 4101.01it/s]\n"
          ]
        }
      ]
    },
    {
      "cell_type": "code",
      "source": [
        "#display geocoded dataset\n",
        "print(df)"
      ],
      "metadata": {
        "colab": {
          "base_uri": "https://localhost:8080/"
        },
        "id": "BTfDeM9cyGbf",
        "outputId": "01674d27-754a-4ad2-8f44-0e33a37b2e78"
      },
      "execution_count": 19,
      "outputs": [
        {
          "output_type": "stream",
          "name": "stdout",
          "text": [
            "      STOP_ID STOP_FRISK_DATE STOP_FRISK_TIME  YEAR2   MONTH2      DAY2  \\\n",
            "0   279772561          1/1/24        01:58:00   2024  January    Monday   \n",
            "1   279772564          1/1/24        00:48:00   2024  January    Monday   \n",
            "2   279772565          1/1/24        01:10:00   2024  January    Monday   \n",
            "3   279772566          1/1/24        01:10:00   2024  January    Monday   \n",
            "4   279772567          1/1/24        01:10:00   2024  January    Monday   \n",
            "..        ...             ...             ...    ...      ...       ...   \n",
            "95  279990285          1/1/24        19:29:00   2024  January    Monday   \n",
            "96  279990286          1/1/24        19:29:00   2024  January    Monday   \n",
            "97  279990288          1/4/24        02:40:00   2024  January  Thursday   \n",
            "98  279990292          1/4/24        00:02:00   2024  January  Thursday   \n",
            "99  279990293          1/4/24        00:02:00   2024  January  Thursday   \n",
            "\n",
            "         STOP_WAS_INITIATED ISSUING_OFFICER_RANK  \\\n",
            "0   Based on Self Initiated                   PO   \n",
            "1   Based on Self Initiated                   PO   \n",
            "2        Based on Radio Run                   PO   \n",
            "3        Based on Radio Run                   PO   \n",
            "4        Based on Radio Run                   PO   \n",
            "..                      ...                  ...   \n",
            "95  Based on Self Initiated                   PO   \n",
            "96  Based on Self Initiated                   PO   \n",
            "97  Based on Self Initiated                   PO   \n",
            "98       Based on Radio Run                   PO   \n",
            "99       Based on Radio Run                   PO   \n",
            "\n",
            "    ISSUING_OFFICER_COMMAND_CODE SUPERVISING_OFFICER_RANK  ...  \\\n",
            "0                             46                      SGT  ...   \n",
            "1                            120                      SGT  ...   \n",
            "2                            871                      SGT  ...   \n",
            "3                            871                      SGT  ...   \n",
            "4                            871                      SGT  ...   \n",
            "..                           ...                      ...  ...   \n",
            "95                           803                      SGT  ...   \n",
            "96                           803                      SGT  ...   \n",
            "97                            90                      SGT  ...   \n",
            "98                           108                      SGT  ...   \n",
            "99                           108                      SGT  ...   \n",
            "\n",
            "    SUSPECT_WEIGHT SUSPECT_BODY_BUILD_TYPE SUSPECT_EYE_COLOR  \\\n",
            "0              160                     THN               BRO   \n",
            "1              200                     MED               BRO   \n",
            "2              140                     THN               BRO   \n",
            "3              120                     THN               BRO   \n",
            "4              120                     THN               BRO   \n",
            "..             ...                     ...               ...   \n",
            "95          (null)                     MED               BRO   \n",
            "96             180                  (null)               BRO   \n",
            "97             155                     THN               BRO   \n",
            "98             130                     MED               BRO   \n",
            "99             150                     THN               BRO   \n",
            "\n",
            "   SUSPECT_HAIR_COLOR SUSPECT_OTHER_DESCRIPTION  STOP_LOCATION_STREET_NAME  \\\n",
            "0                 BLK                    (null)                   CLAY AVE   \n",
            "1                 BLK   BLACK HOODIE SWEATSHIRT                FARRAGUT RD   \n",
            "2                 BLK               SCAR ON LIP                        NaN   \n",
            "3                 BLK       RED JACKET/ RED HAT                        NaN   \n",
            "4                 BLK              BLACK JACKET                        NaN   \n",
            "..                ...                       ...                        ...   \n",
            "95                XXX                    (null)                  MARCY AVE   \n",
            "96                XXX                    (null)                   PARK AVE   \n",
            "97                XXX              BLACK JACKET                 GRAHAM AVE   \n",
            "98                BLK                RED JACKET                QUEENS BLVD   \n",
            "99                BLK              BLACK JACKET                QUEENS BLVD   \n",
            "\n",
            "   STOP_LOCATION_BORO_NAME      city latitude longitude  \n",
            "0                    BRONX  New York     None      None  \n",
            "1                 BROOKLYN  New York     None      None  \n",
            "2                 BROOKLYN  New York     None      None  \n",
            "3                 BROOKLYN  New York     None      None  \n",
            "4                 BROOKLYN  New York     None      None  \n",
            "..                     ...       ...      ...       ...  \n",
            "95                BROOKLYN  New York     None      None  \n",
            "96                BROOKLYN  New York     None      None  \n",
            "97                BROOKLYN  New York     None      None  \n",
            "98                  QUEENS  New York     None      None  \n",
            "99                  QUEENS  New York     None      None  \n",
            "\n",
            "[100 rows x 77 columns]\n"
          ]
        }
      ]
    }
  ]
}